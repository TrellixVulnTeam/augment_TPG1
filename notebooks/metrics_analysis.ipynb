{
 "cells": [
  {
   "cell_type": "code",
   "execution_count": 38,
   "metadata": {},
   "outputs": [],
   "source": [
    "import pandas as pd\n",
    "import numpy as np\n",
    "import matplotlib.pyplot as plt\n",
    "%matplotlib inline\n",
    "import scipy as sp\n",
    "from scipy import stats\n",
    "from numpy.polynomial.polynomial import polyfit\n",
    "from collections import Counter\n",
    "from mpl_toolkits.mplot3d import Axes3D"
   ]
  },
  {
   "cell_type": "code",
   "execution_count": 39,
   "metadata": {},
   "outputs": [],
   "source": [
    "df = pd.read_csv(\"../results_with_th.csv\",names=['domain','exp','slot','prec','rec','f1','count','slot_count','context_count'],delimiter=\" \")"
   ]
  },
  {
   "cell_type": "code",
   "execution_count": 40,
   "metadata": {},
   "outputs": [],
   "source": [
    "best_exp_per_domain = {}\n",
    "best_exp_per_domain['book_restaurant'] = '4x'\n",
    "best_exp_per_domain['rate_book'] = '4x'\n",
    "best_exp_per_domain['search_screening_event'] = '4x'\n",
    "best_exp_per_domain['search_creative_work'] = '4x'\n",
    "best_exp_per_domain['get_weather'] = '4x'\n",
    "best_exp_per_domain['play_music'] = '4x'\n",
    "best_exp_per_domain['add_to_playlist'] = '4x'\n",
    "best_exp_per_domain['th.alarm'] = '4x'\n",
    "best_exp_per_domain['th.reminder'] = '1x'\n",
    "best_exp_per_domain['th.weather'] = '4x'\n",
    "\n",
    "#df = df[df['exp'].isin(['baseline','4x'])]"
   ]
  },
  {
   "cell_type": "code",
   "execution_count": 41,
   "metadata": {},
   "outputs": [],
   "source": [
    "df_baseline = df[df['exp']=='baseline']\n",
    "df_1x = df[df['exp']=='1x']\n",
    "df_2x = df[df['exp']=='2x']\n",
    "df_4x = df[df['exp']=='4x']"
   ]
  },
  {
   "cell_type": "code",
   "execution_count": 42,
   "metadata": {},
   "outputs": [],
   "source": [
    "df_best = pd.concat([df[(df['domain']==domain) & (df['exp']==best_exp_per_domain[domain])] for domain in best_exp_per_domain])"
   ]
  },
  {
   "cell_type": "code",
   "execution_count": 43,
   "metadata": {},
   "outputs": [],
   "source": [
    "df_baseline = pd.concat([df[(df['domain']==domain) & (df['exp']=='baseline')] for domain in best_exp_per_domain])"
   ]
  },
  {
   "cell_type": "code",
   "execution_count": 44,
   "metadata": {},
   "outputs": [],
   "source": [
    "ours = df_best['f1'].values\n",
    "bl = df_baseline['f1'].values\n",
    "counts = df_best['count'].values\n",
    "slot_counts = df_best['slot_count'].values #/ counts\n",
    "context_counts = df_best['context_count'].values #/ counts\n",
    "domains = df_best['domain'].values\n",
    "slots = df_best['slot'].values"
   ]
  },
  {
   "cell_type": "code",
   "execution_count": 45,
   "metadata": {},
   "outputs": [
    {
     "data": {
      "text/plain": [
       "(array([ True,  True,  True,  True,  True,  True,  True,  True,  True,\n",
       "         True,  True,  True,  True,  True,  True,  True,  True,  True,\n",
       "         True,  True,  True,  True,  True,  True,  True,  True,  True,\n",
       "         True,  True,  True,  True,  True,  True,  True,  True,  True,\n",
       "         True,  True,  True,  True,  True,  True,  True,  True,  True,\n",
       "         True,  True,  True,  True,  True,  True,  True,  True,  True,\n",
       "         True,  True,  True,  True,  True,  True,  True,  True,  True]),\n",
       " array([ True,  True,  True,  True,  True,  True,  True,  True,  True,\n",
       "         True,  True,  True,  True,  True,  True,  True,  True,  True,\n",
       "         True,  True,  True,  True,  True,  True,  True,  True,  True,\n",
       "         True,  True,  True,  True,  True,  True,  True,  True,  True,\n",
       "         True,  True,  True,  True,  True,  True,  True,  True,  True,\n",
       "         True,  True,  True,  True,  True,  True,  True,  True,  True,\n",
       "         True,  True,  True,  True,  True,  True,  True,  True,  True]))"
      ]
     },
     "execution_count": 45,
     "metadata": {},
     "output_type": "execute_result"
    }
   ],
   "source": [
    "df_best['slot'].values == df_baseline['slot'].values,df_best['domain'].values == df_baseline['domain'].values"
   ]
  },
  {
   "cell_type": "code",
   "execution_count": 46,
   "metadata": {},
   "outputs": [],
   "source": [
    "rimps = np.around(100*(ours-bl)/(100.001-bl),decimals=2)\n",
    "aimps = np.around((ours-bl),decimals=2)"
   ]
  },
  {
   "cell_type": "code",
   "execution_count": 47,
   "metadata": {},
   "outputs": [
    {
     "data": {
      "text/plain": [
       "1.467936507936508"
      ]
     },
     "execution_count": 47,
     "metadata": {},
     "output_type": "execute_result"
    }
   ],
   "source": [
    "np.mean(aimps)"
   ]
  },
  {
   "cell_type": "code",
   "execution_count": 48,
   "metadata": {},
   "outputs": [
    {
     "data": {
      "image/png": "[encoded data removed]",
      "text/plain": [
       "<Figure size 432x288 with 1 Axes>"
      ]
     },
     "metadata": {
      "needs_background": "light"
     },
     "output_type": "display_data"
    }
   ],
   "source": [
    "plt.hist(slot_counts)\n",
    "plt.title(\"slot counts\")\n",
    "plt.show()"
   ]
  },
  {
   "cell_type": "code",
   "execution_count": 49,
   "metadata": {},
   "outputs": [
    {
     "data": {
      "image/png": "[encoded data removed]",
      "text/plain": [
       "<Figure size 432x288 with 1 Axes>"
      ]
     },
     "metadata": {
      "needs_background": "light"
     },
     "output_type": "display_data"
    }
   ],
   "source": [
    "plt.hist(context_counts)\n",
    "plt.title(\"context counts\")\n",
    "plt.show()"
   ]
  },
  {
   "cell_type": "code",
   "execution_count": 50,
   "metadata": {},
   "outputs": [
    {
     "data": {
      "image/png": "[encoded data removed]",
      "text/plain": [
       "<Figure size 432x288 with 1 Axes>"
      ]
     },
     "metadata": {
      "needs_background": "light"
     },
     "output_type": "display_data"
    }
   ],
   "source": [
    "plt.hist(counts)\n",
    "plt.title(\"phrase counts\")\n",
    "plt.show()"
   ]
  },
  {
   "cell_type": "code",
   "execution_count": 51,
   "metadata": {},
   "outputs": [
    {
     "data": {
      "text/plain": [
       "(63, 63)"
      ]
     },
     "execution_count": 51,
     "metadata": {},
     "output_type": "execute_result"
    }
   ],
   "source": [
    "len(slot_counts),len(context_counts)"
   ]
  },
  {
   "cell_type": "code",
   "execution_count": 79,
   "metadata": {},
   "outputs": [
    {
     "data": {
      "text/plain": [
       "62"
      ]
     },
     "execution_count": 79,
     "metadata": {},
     "output_type": "execute_result"
    }
   ],
   "source": [
    "metrics = [(domain,slot,count,slot_count,context_count,rimp,aimp,b,o) \n",
    "           for domain,slot,count,slot_count,context_count,rimp,aimp,b,o \n",
    "           in zip(domains,slots,counts,slot_counts,context_counts,rimps,aimps,bl,ours)\n",
    "           if abs(rimp)<500 ]#and count>100]\n",
    "metrics = sorted(metrics,key=lambda x : x[0])\n",
    "len(metrics)"
   ]
  },
  {
   "cell_type": "code",
   "execution_count": 80,
   "metadata": {},
   "outputs": [],
   "source": [
    "domains,slots,counts,slot_counts,context_counts,rimps,aimps,bl,ours = zip(*metrics)"
   ]
  },
  {
   "cell_type": "code",
   "execution_count": 82,
   "metadata": {},
   "outputs": [
    {
     "data": {
      "text/html": [
       "<div>\n",
       "<style scoped>\n",
       "    .dataframe tbody tr th:only-of-type {\n",
       "        vertical-align: middle;\n",
       "    }\n",
       "\n",
       "    .dataframe tbody tr th {\n",
       "        vertical-align: top;\n",
       "    }\n",
       "\n",
       "    .dataframe thead th {\n",
       "        text-align: right;\n",
       "    }\n",
       "</style>\n",
       "<table border=\"1\" class=\"dataframe\">\n",
       "  <thead>\n",
       "    <tr style=\"text-align: right;\">\n",
       "      <th></th>\n",
       "      <th>0</th>\n",
       "      <th>1</th>\n",
       "      <th>2</th>\n",
       "      <th>3</th>\n",
       "      <th>4</th>\n",
       "      <th>5</th>\n",
       "      <th>6</th>\n",
       "      <th>7</th>\n",
       "      <th>8</th>\n",
       "    </tr>\n",
       "  </thead>\n",
       "  <tbody>\n",
       "    <tr>\n",
       "      <th>0</th>\n",
       "      <td>add_to_playlist</td>\n",
       "      <td>entity_name</td>\n",
       "      <td>271</td>\n",
       "      <td>599</td>\n",
       "      <td>23</td>\n",
       "      <td>8.63</td>\n",
       "      <td>1.32</td>\n",
       "      <td>84.70</td>\n",
       "      <td>86.02</td>\n",
       "    </tr>\n",
       "    <tr>\n",
       "      <th>1</th>\n",
       "      <td>add_to_playlist</td>\n",
       "      <td>artist</td>\n",
       "      <td>376</td>\n",
       "      <td>646</td>\n",
       "      <td>29</td>\n",
       "      <td>-0.27</td>\n",
       "      <td>-0.02</td>\n",
       "      <td>92.60</td>\n",
       "      <td>92.58</td>\n",
       "    </tr>\n",
       "    <tr>\n",
       "      <th>2</th>\n",
       "      <td>add_to_playlist</td>\n",
       "      <td>playlist</td>\n",
       "      <td>942</td>\n",
       "      <td>807</td>\n",
       "      <td>67</td>\n",
       "      <td>35.94</td>\n",
       "      <td>1.79</td>\n",
       "      <td>95.02</td>\n",
       "      <td>96.81</td>\n",
       "    </tr>\n",
       "    <tr>\n",
       "      <th>3</th>\n",
       "      <td>add_to_playlist</td>\n",
       "      <td>music_item</td>\n",
       "      <td>446</td>\n",
       "      <td>5</td>\n",
       "      <td>141</td>\n",
       "      <td>19.78</td>\n",
       "      <td>0.20</td>\n",
       "      <td>98.99</td>\n",
       "      <td>99.19</td>\n",
       "    </tr>\n",
       "    <tr>\n",
       "      <th>4</th>\n",
       "      <td>add_to_playlist</td>\n",
       "      <td>playlist_owner</td>\n",
       "      <td>543</td>\n",
       "      <td>43</td>\n",
       "      <td>28</td>\n",
       "      <td>39.54</td>\n",
       "      <td>0.38</td>\n",
       "      <td>99.04</td>\n",
       "      <td>99.42</td>\n",
       "    </tr>\n",
       "    <tr>\n",
       "      <th>5</th>\n",
       "      <td>book_restaurant</td>\n",
       "      <td>poi</td>\n",
       "      <td>59</td>\n",
       "      <td>74</td>\n",
       "      <td>21</td>\n",
       "      <td>7.03</td>\n",
       "      <td>1.44</td>\n",
       "      <td>79.53</td>\n",
       "      <td>80.97</td>\n",
       "    </tr>\n",
       "    <tr>\n",
       "      <th>6</th>\n",
       "      <td>book_restaurant</td>\n",
       "      <td>restaurant_name</td>\n",
       "      <td>168</td>\n",
       "      <td>267</td>\n",
       "      <td>15</td>\n",
       "      <td>9.11</td>\n",
       "      <td>1.74</td>\n",
       "      <td>80.90</td>\n",
       "      <td>82.64</td>\n",
       "    </tr>\n",
       "    <tr>\n",
       "      <th>7</th>\n",
       "      <td>book_restaurant</td>\n",
       "      <td>cuisine</td>\n",
       "      <td>106</td>\n",
       "      <td>72</td>\n",
       "      <td>23</td>\n",
       "      <td>13.36</td>\n",
       "      <td>2.00</td>\n",
       "      <td>85.03</td>\n",
       "      <td>87.03</td>\n",
       "    </tr>\n",
       "    <tr>\n",
       "      <th>8</th>\n",
       "      <td>book_restaurant</td>\n",
       "      <td>served_dish</td>\n",
       "      <td>142</td>\n",
       "      <td>159</td>\n",
       "      <td>15</td>\n",
       "      <td>6.05</td>\n",
       "      <td>0.75</td>\n",
       "      <td>87.60</td>\n",
       "      <td>88.35</td>\n",
       "    </tr>\n",
       "    <tr>\n",
       "      <th>9</th>\n",
       "      <td>book_restaurant</td>\n",
       "      <td>country</td>\n",
       "      <td>178</td>\n",
       "      <td>155</td>\n",
       "      <td>12</td>\n",
       "      <td>22.96</td>\n",
       "      <td>2.06</td>\n",
       "      <td>91.03</td>\n",
       "      <td>93.09</td>\n",
       "    </tr>\n",
       "    <tr>\n",
       "      <th>10</th>\n",
       "      <td>book_restaurant</td>\n",
       "      <td>city</td>\n",
       "      <td>259</td>\n",
       "      <td>314</td>\n",
       "      <td>15</td>\n",
       "      <td>-15.16</td>\n",
       "      <td>-1.34</td>\n",
       "      <td>91.16</td>\n",
       "      <td>89.82</td>\n",
       "    </tr>\n",
       "    <tr>\n",
       "      <th>11</th>\n",
       "      <td>book_restaurant</td>\n",
       "      <td>spatial_relation</td>\n",
       "      <td>136</td>\n",
       "      <td>18</td>\n",
       "      <td>87</td>\n",
       "      <td>24.09</td>\n",
       "      <td>1.85</td>\n",
       "      <td>92.32</td>\n",
       "      <td>94.17</td>\n",
       "    </tr>\n",
       "    <tr>\n",
       "      <th>12</th>\n",
       "      <td>book_restaurant</td>\n",
       "      <td>state</td>\n",
       "      <td>267</td>\n",
       "      <td>116</td>\n",
       "      <td>65</td>\n",
       "      <td>21.13</td>\n",
       "      <td>1.12</td>\n",
       "      <td>94.70</td>\n",
       "      <td>95.82</td>\n",
       "    </tr>\n",
       "    <tr>\n",
       "      <th>13</th>\n",
       "      <td>book_restaurant</td>\n",
       "      <td>timerange</td>\n",
       "      <td>327</td>\n",
       "      <td>224</td>\n",
       "      <td>113</td>\n",
       "      <td>-2.12</td>\n",
       "      <td>-0.11</td>\n",
       "      <td>94.82</td>\n",
       "      <td>94.71</td>\n",
       "    </tr>\n",
       "    <tr>\n",
       "      <th>14</th>\n",
       "      <td>book_restaurant</td>\n",
       "      <td>restaurant_type</td>\n",
       "      <td>680</td>\n",
       "      <td>26</td>\n",
       "      <td>123</td>\n",
       "      <td>48.39</td>\n",
       "      <td>1.82</td>\n",
       "      <td>96.24</td>\n",
       "      <td>98.06</td>\n",
       "    </tr>\n",
       "    <tr>\n",
       "      <th>15</th>\n",
       "      <td>book_restaurant</td>\n",
       "      <td>sort</td>\n",
       "      <td>98</td>\n",
       "      <td>5</td>\n",
       "      <td>10</td>\n",
       "      <td>0.00</td>\n",
       "      <td>0.00</td>\n",
       "      <td>98.61</td>\n",
       "      <td>98.61</td>\n",
       "    </tr>\n",
       "    <tr>\n",
       "      <th>16</th>\n",
       "      <td>book_restaurant</td>\n",
       "      <td>party_size_number</td>\n",
       "      <td>497</td>\n",
       "      <td>20</td>\n",
       "      <td>12</td>\n",
       "      <td>-40.82</td>\n",
       "      <td>-0.18</td>\n",
       "      <td>99.56</td>\n",
       "      <td>99.38</td>\n",
       "    </tr>\n",
       "    <tr>\n",
       "      <th>17</th>\n",
       "      <td>book_restaurant</td>\n",
       "      <td>party_size_description</td>\n",
       "      <td>164</td>\n",
       "      <td>269</td>\n",
       "      <td>31</td>\n",
       "      <td>-193.73</td>\n",
       "      <td>-0.68</td>\n",
       "      <td>99.65</td>\n",
       "      <td>98.97</td>\n",
       "    </tr>\n",
       "    <tr>\n",
       "      <th>18</th>\n",
       "      <td>book_restaurant</td>\n",
       "      <td>facility</td>\n",
       "      <td>74</td>\n",
       "      <td>9</td>\n",
       "      <td>14</td>\n",
       "      <td>0.00</td>\n",
       "      <td>0.00</td>\n",
       "      <td>100.00</td>\n",
       "      <td>100.00</td>\n",
       "    </tr>\n",
       "    <tr>\n",
       "      <th>19</th>\n",
       "      <td>get_weather</td>\n",
       "      <td>spatial_relation</td>\n",
       "      <td>95</td>\n",
       "      <td>19</td>\n",
       "      <td>82</td>\n",
       "      <td>32.63</td>\n",
       "      <td>3.40</td>\n",
       "      <td>89.58</td>\n",
       "      <td>92.98</td>\n",
       "    </tr>\n",
       "    <tr>\n",
       "      <th>20</th>\n",
       "      <td>get_weather</td>\n",
       "      <td>geographic_poi</td>\n",
       "      <td>148</td>\n",
       "      <td>286</td>\n",
       "      <td>19</td>\n",
       "      <td>-12.28</td>\n",
       "      <td>-1.12</td>\n",
       "      <td>90.88</td>\n",
       "      <td>89.76</td>\n",
       "    </tr>\n",
       "    <tr>\n",
       "      <th>21</th>\n",
       "      <td>get_weather</td>\n",
       "      <td>state</td>\n",
       "      <td>248</td>\n",
       "      <td>116</td>\n",
       "      <td>73</td>\n",
       "      <td>30.53</td>\n",
       "      <td>1.53</td>\n",
       "      <td>94.99</td>\n",
       "      <td>96.52</td>\n",
       "    </tr>\n",
       "    <tr>\n",
       "      <th>22</th>\n",
       "      <td>get_weather</td>\n",
       "      <td>country</td>\n",
       "      <td>246</td>\n",
       "      <td>188</td>\n",
       "      <td>71</td>\n",
       "      <td>11.11</td>\n",
       "      <td>0.55</td>\n",
       "      <td>95.05</td>\n",
       "      <td>95.60</td>\n",
       "    </tr>\n",
       "    <tr>\n",
       "      <th>23</th>\n",
       "      <td>get_weather</td>\n",
       "      <td>city</td>\n",
       "      <td>425</td>\n",
       "      <td>487</td>\n",
       "      <td>24</td>\n",
       "      <td>11.11</td>\n",
       "      <td>0.49</td>\n",
       "      <td>95.59</td>\n",
       "      <td>96.08</td>\n",
       "    </tr>\n",
       "    <tr>\n",
       "      <th>24</th>\n",
       "      <td>get_weather</td>\n",
       "      <td>timerange</td>\n",
       "      <td>524</td>\n",
       "      <td>287</td>\n",
       "      <td>142</td>\n",
       "      <td>-2.16</td>\n",
       "      <td>-0.08</td>\n",
       "      <td>96.29</td>\n",
       "      <td>96.21</td>\n",
       "    </tr>\n",
       "    <tr>\n",
       "      <th>25</th>\n",
       "      <td>get_weather</td>\n",
       "      <td>condition_description</td>\n",
       "      <td>227</td>\n",
       "      <td>23</td>\n",
       "      <td>22</td>\n",
       "      <td>-66.47</td>\n",
       "      <td>-0.22</td>\n",
       "      <td>99.67</td>\n",
       "      <td>99.45</td>\n",
       "    </tr>\n",
       "    <tr>\n",
       "      <th>26</th>\n",
       "      <td>get_weather</td>\n",
       "      <td>current_location</td>\n",
       "      <td>143</td>\n",
       "      <td>6</td>\n",
       "      <td>47</td>\n",
       "      <td>0.00</td>\n",
       "      <td>0.00</td>\n",
       "      <td>100.00</td>\n",
       "      <td>100.00</td>\n",
       "    </tr>\n",
       "    <tr>\n",
       "      <th>27</th>\n",
       "      <td>play_music</td>\n",
       "      <td>album</td>\n",
       "      <td>85</td>\n",
       "      <td>213</td>\n",
       "      <td>16</td>\n",
       "      <td>0.56</td>\n",
       "      <td>0.32</td>\n",
       "      <td>42.70</td>\n",
       "      <td>43.02</td>\n",
       "    </tr>\n",
       "    <tr>\n",
       "      <th>28</th>\n",
       "      <td>play_music</td>\n",
       "      <td>track</td>\n",
       "      <td>101</td>\n",
       "      <td>228</td>\n",
       "      <td>15</td>\n",
       "      <td>-2.85</td>\n",
       "      <td>-1.18</td>\n",
       "      <td>58.58</td>\n",
       "      <td>57.40</td>\n",
       "    </tr>\n",
       "    <tr>\n",
       "      <th>29</th>\n",
       "      <td>play_music</td>\n",
       "      <td>playlist</td>\n",
       "      <td>84</td>\n",
       "      <td>149</td>\n",
       "      <td>14</td>\n",
       "      <td>-0.57</td>\n",
       "      <td>-0.20</td>\n",
       "      <td>65.12</td>\n",
       "      <td>64.92</td>\n",
       "    </tr>\n",
       "    <tr>\n",
       "      <th>...</th>\n",
       "      <td>...</td>\n",
       "      <td>...</td>\n",
       "      <td>...</td>\n",
       "      <td>...</td>\n",
       "      <td>...</td>\n",
       "      <td>...</td>\n",
       "      <td>...</td>\n",
       "      <td>...</td>\n",
       "      <td>...</td>\n",
       "    </tr>\n",
       "    <tr>\n",
       "      <th>32</th>\n",
       "      <td>play_music</td>\n",
       "      <td>artist</td>\n",
       "      <td>570</td>\n",
       "      <td>918</td>\n",
       "      <td>45</td>\n",
       "      <td>16.14</td>\n",
       "      <td>0.72</td>\n",
       "      <td>95.54</td>\n",
       "      <td>96.26</td>\n",
       "    </tr>\n",
       "    <tr>\n",
       "      <th>33</th>\n",
       "      <td>play_music</td>\n",
       "      <td>music_item</td>\n",
       "      <td>399</td>\n",
       "      <td>17</td>\n",
       "      <td>188</td>\n",
       "      <td>24.36</td>\n",
       "      <td>0.87</td>\n",
       "      <td>96.43</td>\n",
       "      <td>97.30</td>\n",
       "    </tr>\n",
       "    <tr>\n",
       "      <th>34</th>\n",
       "      <td>play_music</td>\n",
       "      <td>service</td>\n",
       "      <td>379</td>\n",
       "      <td>17</td>\n",
       "      <td>18</td>\n",
       "      <td>66.23</td>\n",
       "      <td>0.61</td>\n",
       "      <td>99.08</td>\n",
       "      <td>99.69</td>\n",
       "    </tr>\n",
       "    <tr>\n",
       "      <th>35</th>\n",
       "      <td>play_music</td>\n",
       "      <td>year</td>\n",
       "      <td>326</td>\n",
       "      <td>65</td>\n",
       "      <td>27</td>\n",
       "      <td>99.38</td>\n",
       "      <td>0.16</td>\n",
       "      <td>99.84</td>\n",
       "      <td>100.00</td>\n",
       "    </tr>\n",
       "    <tr>\n",
       "      <th>36</th>\n",
       "      <td>rate_book</td>\n",
       "      <td>object_name</td>\n",
       "      <td>471</td>\n",
       "      <td>969</td>\n",
       "      <td>33</td>\n",
       "      <td>7.75</td>\n",
       "      <td>0.79</td>\n",
       "      <td>89.81</td>\n",
       "      <td>90.60</td>\n",
       "    </tr>\n",
       "    <tr>\n",
       "      <th>37</th>\n",
       "      <td>rate_book</td>\n",
       "      <td>object_part_of_series_type</td>\n",
       "      <td>144</td>\n",
       "      <td>3</td>\n",
       "      <td>135</td>\n",
       "      <td>23.14</td>\n",
       "      <td>0.47</td>\n",
       "      <td>97.97</td>\n",
       "      <td>98.44</td>\n",
       "    </tr>\n",
       "    <tr>\n",
       "      <th>38</th>\n",
       "      <td>rate_book</td>\n",
       "      <td>object_select</td>\n",
       "      <td>487</td>\n",
       "      <td>6</td>\n",
       "      <td>30</td>\n",
       "      <td>24.79</td>\n",
       "      <td>0.33</td>\n",
       "      <td>98.67</td>\n",
       "      <td>99.00</td>\n",
       "    </tr>\n",
       "    <tr>\n",
       "      <th>39</th>\n",
       "      <td>rate_book</td>\n",
       "      <td>rating_value</td>\n",
       "      <td>957</td>\n",
       "      <td>12</td>\n",
       "      <td>480</td>\n",
       "      <td>26.82</td>\n",
       "      <td>0.07</td>\n",
       "      <td>99.74</td>\n",
       "      <td>99.81</td>\n",
       "    </tr>\n",
       "    <tr>\n",
       "      <th>40</th>\n",
       "      <td>rate_book</td>\n",
       "      <td>object_type</td>\n",
       "      <td>473</td>\n",
       "      <td>5</td>\n",
       "      <td>20</td>\n",
       "      <td>19.92</td>\n",
       "      <td>0.05</td>\n",
       "      <td>99.75</td>\n",
       "      <td>99.80</td>\n",
       "    </tr>\n",
       "    <tr>\n",
       "      <th>41</th>\n",
       "      <td>rate_book</td>\n",
       "      <td>rating_unit</td>\n",
       "      <td>558</td>\n",
       "      <td>2</td>\n",
       "      <td>19</td>\n",
       "      <td>37.91</td>\n",
       "      <td>0.08</td>\n",
       "      <td>99.79</td>\n",
       "      <td>99.87</td>\n",
       "    </tr>\n",
       "    <tr>\n",
       "      <th>42</th>\n",
       "      <td>rate_book</td>\n",
       "      <td>best_rating</td>\n",
       "      <td>519</td>\n",
       "      <td>1</td>\n",
       "      <td>15</td>\n",
       "      <td>0.00</td>\n",
       "      <td>0.00</td>\n",
       "      <td>100.00</td>\n",
       "      <td>100.00</td>\n",
       "    </tr>\n",
       "    <tr>\n",
       "      <th>43</th>\n",
       "      <td>search_creative_work</td>\n",
       "      <td>object_name</td>\n",
       "      <td>954</td>\n",
       "      <td>1781</td>\n",
       "      <td>59</td>\n",
       "      <td>8.97</td>\n",
       "      <td>0.92</td>\n",
       "      <td>89.75</td>\n",
       "      <td>90.67</td>\n",
       "    </tr>\n",
       "    <tr>\n",
       "      <th>44</th>\n",
       "      <td>search_creative_work</td>\n",
       "      <td>object_type</td>\n",
       "      <td>712</td>\n",
       "      <td>18</td>\n",
       "      <td>318</td>\n",
       "      <td>-11.27</td>\n",
       "      <td>-0.15</td>\n",
       "      <td>98.67</td>\n",
       "      <td>98.52</td>\n",
       "    </tr>\n",
       "    <tr>\n",
       "      <th>45</th>\n",
       "      <td>search_screening_event</td>\n",
       "      <td>movie_name</td>\n",
       "      <td>390</td>\n",
       "      <td>778</td>\n",
       "      <td>19</td>\n",
       "      <td>23.03</td>\n",
       "      <td>1.38</td>\n",
       "      <td>94.01</td>\n",
       "      <td>95.39</td>\n",
       "    </tr>\n",
       "    <tr>\n",
       "      <th>46</th>\n",
       "      <td>search_screening_event</td>\n",
       "      <td>timerange</td>\n",
       "      <td>136</td>\n",
       "      <td>74</td>\n",
       "      <td>55</td>\n",
       "      <td>-0.51</td>\n",
       "      <td>-0.02</td>\n",
       "      <td>96.05</td>\n",
       "      <td>96.03</td>\n",
       "    </tr>\n",
       "    <tr>\n",
       "      <th>47</th>\n",
       "      <td>search_screening_event</td>\n",
       "      <td>object_type</td>\n",
       "      <td>377</td>\n",
       "      <td>4</td>\n",
       "      <td>48</td>\n",
       "      <td>31.22</td>\n",
       "      <td>0.30</td>\n",
       "      <td>99.04</td>\n",
       "      <td>99.34</td>\n",
       "    </tr>\n",
       "    <tr>\n",
       "      <th>48</th>\n",
       "      <td>search_screening_event</td>\n",
       "      <td>location_name</td>\n",
       "      <td>268</td>\n",
       "      <td>66</td>\n",
       "      <td>12</td>\n",
       "      <td>43.87</td>\n",
       "      <td>0.29</td>\n",
       "      <td>99.34</td>\n",
       "      <td>99.63</td>\n",
       "    </tr>\n",
       "    <tr>\n",
       "      <th>49</th>\n",
       "      <td>search_screening_event</td>\n",
       "      <td>movie_type</td>\n",
       "      <td>358</td>\n",
       "      <td>5</td>\n",
       "      <td>44</td>\n",
       "      <td>-16.24</td>\n",
       "      <td>-0.07</td>\n",
       "      <td>99.57</td>\n",
       "      <td>99.50</td>\n",
       "    </tr>\n",
       "    <tr>\n",
       "      <th>50</th>\n",
       "      <td>search_screening_event</td>\n",
       "      <td>object_location_type</td>\n",
       "      <td>241</td>\n",
       "      <td>4</td>\n",
       "      <td>18</td>\n",
       "      <td>0.00</td>\n",
       "      <td>0.00</td>\n",
       "      <td>99.67</td>\n",
       "      <td>99.67</td>\n",
       "    </tr>\n",
       "    <tr>\n",
       "      <th>51</th>\n",
       "      <td>search_screening_event</td>\n",
       "      <td>spatial_relation</td>\n",
       "      <td>355</td>\n",
       "      <td>12</td>\n",
       "      <td>40</td>\n",
       "      <td>98.59</td>\n",
       "      <td>0.07</td>\n",
       "      <td>99.93</td>\n",
       "      <td>100.00</td>\n",
       "    </tr>\n",
       "    <tr>\n",
       "      <th>52</th>\n",
       "      <td>th.alarm</td>\n",
       "      <td>datetime</td>\n",
       "      <td>1320</td>\n",
       "      <td>168</td>\n",
       "      <td>48</td>\n",
       "      <td>15.06</td>\n",
       "      <td>1.70</td>\n",
       "      <td>88.71</td>\n",
       "      <td>90.41</td>\n",
       "    </tr>\n",
       "    <tr>\n",
       "      <th>53</th>\n",
       "      <td>th.reminder</td>\n",
       "      <td>reminder/recurring_period</td>\n",
       "      <td>9</td>\n",
       "      <td>20</td>\n",
       "      <td>13</td>\n",
       "      <td>1.69</td>\n",
       "      <td>1.12</td>\n",
       "      <td>33.79</td>\n",
       "      <td>34.91</td>\n",
       "    </tr>\n",
       "    <tr>\n",
       "      <th>54</th>\n",
       "      <td>th.reminder</td>\n",
       "      <td>reminder/reference</td>\n",
       "      <td>9</td>\n",
       "      <td>8</td>\n",
       "      <td>4</td>\n",
       "      <td>95.76</td>\n",
       "      <td>50.16</td>\n",
       "      <td>47.62</td>\n",
       "      <td>97.78</td>\n",
       "    </tr>\n",
       "    <tr>\n",
       "      <th>55</th>\n",
       "      <td>th.reminder</td>\n",
       "      <td>reminder/todo</td>\n",
       "      <td>361</td>\n",
       "      <td>413</td>\n",
       "      <td>26</td>\n",
       "      <td>6.24</td>\n",
       "      <td>1.26</td>\n",
       "      <td>79.81</td>\n",
       "      <td>81.07</td>\n",
       "    </tr>\n",
       "    <tr>\n",
       "      <th>56</th>\n",
       "      <td>th.reminder</td>\n",
       "      <td>datetime</td>\n",
       "      <td>1320</td>\n",
       "      <td>85</td>\n",
       "      <td>112</td>\n",
       "      <td>6.92</td>\n",
       "      <td>1.22</td>\n",
       "      <td>82.37</td>\n",
       "      <td>83.59</td>\n",
       "    </tr>\n",
       "    <tr>\n",
       "      <th>57</th>\n",
       "      <td>th.reminder</td>\n",
       "      <td>reminder/noun</td>\n",
       "      <td>328</td>\n",
       "      <td>7</td>\n",
       "      <td>30</td>\n",
       "      <td>10.78</td>\n",
       "      <td>0.44</td>\n",
       "      <td>95.92</td>\n",
       "      <td>96.36</td>\n",
       "    </tr>\n",
       "    <tr>\n",
       "      <th>58</th>\n",
       "      <td>th.weather</td>\n",
       "      <td>location</td>\n",
       "      <td>206</td>\n",
       "      <td>270</td>\n",
       "      <td>32</td>\n",
       "      <td>37.91</td>\n",
       "      <td>4.66</td>\n",
       "      <td>87.71</td>\n",
       "      <td>92.37</td>\n",
       "    </tr>\n",
       "    <tr>\n",
       "      <th>59</th>\n",
       "      <td>th.weather</td>\n",
       "      <td>weather/attribute</td>\n",
       "      <td>541</td>\n",
       "      <td>104</td>\n",
       "      <td>75</td>\n",
       "      <td>11.77</td>\n",
       "      <td>0.89</td>\n",
       "      <td>92.44</td>\n",
       "      <td>93.33</td>\n",
       "    </tr>\n",
       "    <tr>\n",
       "      <th>60</th>\n",
       "      <td>th.weather</td>\n",
       "      <td>datetime</td>\n",
       "      <td>1320</td>\n",
       "      <td>62</td>\n",
       "      <td>112</td>\n",
       "      <td>40.38</td>\n",
       "      <td>2.08</td>\n",
       "      <td>94.85</td>\n",
       "      <td>96.93</td>\n",
       "    </tr>\n",
       "    <tr>\n",
       "      <th>61</th>\n",
       "      <td>th.weather</td>\n",
       "      <td>weather/noun</td>\n",
       "      <td>278</td>\n",
       "      <td>22</td>\n",
       "      <td>83</td>\n",
       "      <td>29.88</td>\n",
       "      <td>0.84</td>\n",
       "      <td>97.19</td>\n",
       "      <td>98.03</td>\n",
       "    </tr>\n",
       "  </tbody>\n",
       "</table>\n",
       "<p>62 rows × 9 columns</p>\n",
       "</div>"
      ],
      "text/plain": [
       "                         0                           1     2     3    4  \\\n",
       "0          add_to_playlist                 entity_name   271   599   23   \n",
       "1          add_to_playlist                      artist   376   646   29   \n",
       "2          add_to_playlist                    playlist   942   807   67   \n",
       "3          add_to_playlist                  music_item   446     5  141   \n",
       "4          add_to_playlist              playlist_owner   543    43   28   \n",
       "5          book_restaurant                         poi    59    74   21   \n",
       "6          book_restaurant             restaurant_name   168   267   15   \n",
       "7          book_restaurant                     cuisine   106    72   23   \n",
       "8          book_restaurant                 served_dish   142   159   15   \n",
       "9          book_restaurant                     country   178   155   12   \n",
       "10         book_restaurant                        city   259   314   15   \n",
       "11         book_restaurant            spatial_relation   136    18   87   \n",
       "12         book_restaurant                       state   267   116   65   \n",
       "13         book_restaurant                   timerange   327   224  113   \n",
       "14         book_restaurant             restaurant_type   680    26  123   \n",
       "15         book_restaurant                        sort    98     5   10   \n",
       "16         book_restaurant           party_size_number   497    20   12   \n",
       "17         book_restaurant      party_size_description   164   269   31   \n",
       "18         book_restaurant                    facility    74     9   14   \n",
       "19             get_weather            spatial_relation    95    19   82   \n",
       "20             get_weather              geographic_poi   148   286   19   \n",
       "21             get_weather                       state   248   116   73   \n",
       "22             get_weather                     country   246   188   71   \n",
       "23             get_weather                        city   425   487   24   \n",
       "24             get_weather                   timerange   524   287  142   \n",
       "25             get_weather       condition_description   227    23   22   \n",
       "26             get_weather            current_location   143     6   47   \n",
       "27              play_music                       album    85   213   16   \n",
       "28              play_music                       track   101   228   15   \n",
       "29              play_music                    playlist    84   149   14   \n",
       "..                     ...                         ...   ...   ...  ...   \n",
       "32              play_music                      artist   570   918   45   \n",
       "33              play_music                  music_item   399    17  188   \n",
       "34              play_music                     service   379    17   18   \n",
       "35              play_music                        year   326    65   27   \n",
       "36               rate_book                 object_name   471   969   33   \n",
       "37               rate_book  object_part_of_series_type   144     3  135   \n",
       "38               rate_book               object_select   487     6   30   \n",
       "39               rate_book                rating_value   957    12  480   \n",
       "40               rate_book                 object_type   473     5   20   \n",
       "41               rate_book                 rating_unit   558     2   19   \n",
       "42               rate_book                 best_rating   519     1   15   \n",
       "43    search_creative_work                 object_name   954  1781   59   \n",
       "44    search_creative_work                 object_type   712    18  318   \n",
       "45  search_screening_event                  movie_name   390   778   19   \n",
       "46  search_screening_event                   timerange   136    74   55   \n",
       "47  search_screening_event                 object_type   377     4   48   \n",
       "48  search_screening_event               location_name   268    66   12   \n",
       "49  search_screening_event                  movie_type   358     5   44   \n",
       "50  search_screening_event        object_location_type   241     4   18   \n",
       "51  search_screening_event            spatial_relation   355    12   40   \n",
       "52                th.alarm                    datetime  1320   168   48   \n",
       "53             th.reminder   reminder/recurring_period     9    20   13   \n",
       "54             th.reminder          reminder/reference     9     8    4   \n",
       "55             th.reminder               reminder/todo   361   413   26   \n",
       "56             th.reminder                    datetime  1320    85  112   \n",
       "57             th.reminder               reminder/noun   328     7   30   \n",
       "58              th.weather                    location   206   270   32   \n",
       "59              th.weather           weather/attribute   541   104   75   \n",
       "60              th.weather                    datetime  1320    62  112   \n",
       "61              th.weather                weather/noun   278    22   83   \n",
       "\n",
       "         5      6       7       8  \n",
       "0     8.63   1.32   84.70   86.02  \n",
       "1    -0.27  -0.02   92.60   92.58  \n",
       "2    35.94   1.79   95.02   96.81  \n",
       "3    19.78   0.20   98.99   99.19  \n",
       "4    39.54   0.38   99.04   99.42  \n",
       "5     7.03   1.44   79.53   80.97  \n",
       "6     9.11   1.74   80.90   82.64  \n",
       "7    13.36   2.00   85.03   87.03  \n",
       "8     6.05   0.75   87.60   88.35  \n",
       "9    22.96   2.06   91.03   93.09  \n",
       "10  -15.16  -1.34   91.16   89.82  \n",
       "11   24.09   1.85   92.32   94.17  \n",
       "12   21.13   1.12   94.70   95.82  \n",
       "13   -2.12  -0.11   94.82   94.71  \n",
       "14   48.39   1.82   96.24   98.06  \n",
       "15    0.00   0.00   98.61   98.61  \n",
       "16  -40.82  -0.18   99.56   99.38  \n",
       "17 -193.73  -0.68   99.65   98.97  \n",
       "18    0.00   0.00  100.00  100.00  \n",
       "19   32.63   3.40   89.58   92.98  \n",
       "20  -12.28  -1.12   90.88   89.76  \n",
       "21   30.53   1.53   94.99   96.52  \n",
       "22   11.11   0.55   95.05   95.60  \n",
       "23   11.11   0.49   95.59   96.08  \n",
       "24   -2.16  -0.08   96.29   96.21  \n",
       "25  -66.47  -0.22   99.67   99.45  \n",
       "26    0.00   0.00  100.00  100.00  \n",
       "27    0.56   0.32   42.70   43.02  \n",
       "28   -2.85  -1.18   58.58   57.40  \n",
       "29   -0.57  -0.20   65.12   64.92  \n",
       "..     ...    ...     ...     ...  \n",
       "32   16.14   0.72   95.54   96.26  \n",
       "33   24.36   0.87   96.43   97.30  \n",
       "34   66.23   0.61   99.08   99.69  \n",
       "35   99.38   0.16   99.84  100.00  \n",
       "36    7.75   0.79   89.81   90.60  \n",
       "37   23.14   0.47   97.97   98.44  \n",
       "38   24.79   0.33   98.67   99.00  \n",
       "39   26.82   0.07   99.74   99.81  \n",
       "40   19.92   0.05   99.75   99.80  \n",
       "41   37.91   0.08   99.79   99.87  \n",
       "42    0.00   0.00  100.00  100.00  \n",
       "43    8.97   0.92   89.75   90.67  \n",
       "44  -11.27  -0.15   98.67   98.52  \n",
       "45   23.03   1.38   94.01   95.39  \n",
       "46   -0.51  -0.02   96.05   96.03  \n",
       "47   31.22   0.30   99.04   99.34  \n",
       "48   43.87   0.29   99.34   99.63  \n",
       "49  -16.24  -0.07   99.57   99.50  \n",
       "50    0.00   0.00   99.67   99.67  \n",
       "51   98.59   0.07   99.93  100.00  \n",
       "52   15.06   1.70   88.71   90.41  \n",
       "53    1.69   1.12   33.79   34.91  \n",
       "54   95.76  50.16   47.62   97.78  \n",
       "55    6.24   1.26   79.81   81.07  \n",
       "56    6.92   1.22   82.37   83.59  \n",
       "57   10.78   0.44   95.92   96.36  \n",
       "58   37.91   4.66   87.71   92.37  \n",
       "59   11.77   0.89   92.44   93.33  \n",
       "60   40.38   2.08   94.85   96.93  \n",
       "61   29.88   0.84   97.19   98.03  \n",
       "\n",
       "[62 rows x 9 columns]"
      ]
     },
     "execution_count": 82,
     "metadata": {},
     "output_type": "execute_result"
    }
   ],
   "source": [
    "headers = [\"domain\",\"slot\",\"count\",\"slot_count\",\"context_count\",\"rimp\",\"aimp\",\"baseline\",\"ours\"]\n",
    "pd.DataFrame(metrics)"
   ]
  },
  {
   "cell_type": "code",
   "execution_count": 76,
   "metadata": {},
   "outputs": [
    {
     "name": "stdout",
     "output_type": "stream",
     "text": [
      "('th.reminder', 'reminder/recurring_period', 20, 13, 1.69, 1.12, 33.79, 34.91, 9)\n",
      "('play_music', 'album', 213, 16, 0.56, 0.32, 42.7, 43.02, 85)\n",
      "('th.reminder', 'reminder/reference', 8, 4, 95.76, 50.16, 47.62, 97.78, 9)\n",
      "('play_music', 'track', 228, 15, -2.85, -1.18, 58.58, 57.4, 101)\n",
      "('play_music', 'playlist', 149, 14, -0.57, -0.2, 65.12, 64.92, 84)\n",
      "('play_music', 'genre', 69, 15, 13.39, 2.98, 77.74, 80.72, 72)\n",
      "('book_restaurant', 'poi', 74, 21, 7.03, 1.44, 79.53, 80.97, 59)\n",
      "('th.reminder', 'reminder/todo', 413, 26, 6.24, 1.26, 79.81, 81.07, 361)\n",
      "('book_restaurant', 'restaurant_name', 267, 15, 9.11, 1.74, 80.9, 82.64, 168)\n",
      "('th.reminder', 'datetime', 85, 112, 6.92, 1.22, 82.37, 83.59, 1320)\n",
      "('add_to_playlist', 'entity_name', 599, 23, 8.63, 1.32, 84.7, 86.02, 271)\n",
      "('book_restaurant', 'cuisine', 72, 23, 13.36, 2.0, 85.03, 87.03, 106)\n",
      "('book_restaurant', 'served_dish', 159, 15, 6.05, 0.75, 87.6, 88.35, 142)\n",
      "('th.weather', 'location', 270, 32, 37.91, 4.66, 87.71, 92.37, 206)\n",
      "('th.alarm', 'datetime', 168, 48, 15.06, 1.7, 88.71, 90.41, 1320)\n",
      "('get_weather', 'spatial_relation', 19, 82, 32.63, 3.4, 89.58, 92.98, 95)\n",
      "('search_creative_work', 'object_name', 1781, 59, 8.97, 0.92, 89.75, 90.67, 954)\n",
      "('rate_book', 'object_name', 969, 33, 7.75, 0.79, 89.81, 90.6, 471)\n",
      "('get_weather', 'geographic_poi', 286, 19, -12.28, -1.12, 90.88, 89.76, 148)\n",
      "('book_restaurant', 'country', 155, 12, 22.96, 2.06, 91.03, 93.09, 178)\n",
      "('book_restaurant', 'city', 314, 15, -15.16, -1.34, 91.16, 89.82, 259)\n",
      "('book_restaurant', 'spatial_relation', 18, 87, 24.09, 1.85, 92.32, 94.17, 136)\n",
      "('th.weather', 'weather/attribute', 104, 75, 11.77, 0.89, 92.44, 93.33, 541)\n",
      "('add_to_playlist', 'artist', 646, 29, -0.27, -0.02, 92.6, 92.58, 376)\n",
      "('search_screening_event', 'movie_name', 778, 19, 23.03, 1.38, 94.01, 95.39, 390)\n",
      "('book_restaurant', 'state', 116, 65, 21.13, 1.12, 94.7, 95.82, 267)\n",
      "('book_restaurant', 'timerange', 224, 113, -2.12, -0.11, 94.82, 94.71, 327)\n",
      "('th.weather', 'datetime', 62, 112, 40.38, 2.08, 94.85, 96.93, 1320)\n",
      "('get_weather', 'state', 116, 73, 30.53, 1.53, 94.99, 96.52, 248)\n",
      "('add_to_playlist', 'playlist', 807, 67, 35.94, 1.79, 95.02, 96.81, 942)\n",
      "('play_music', 'sort', 24, 32, 14.69, 0.73, 95.03, 95.76, 174)\n",
      "('get_weather', 'country', 188, 71, 11.11, 0.55, 95.05, 95.6, 246)\n",
      "('play_music', 'artist', 918, 45, 16.14, 0.72, 95.54, 96.26, 570)\n",
      "('get_weather', 'city', 487, 24, 11.11, 0.49, 95.59, 96.08, 425)\n",
      "('th.reminder', 'reminder/noun', 7, 30, 10.78, 0.44, 95.92, 96.36, 328)\n",
      "('search_screening_event', 'timerange', 74, 55, -0.51, -0.02, 96.05, 96.03, 136)\n",
      "('book_restaurant', 'restaurant_type', 26, 123, 48.39, 1.82, 96.24, 98.06, 680)\n",
      "('get_weather', 'timerange', 287, 142, -2.16, -0.08, 96.29, 96.21, 524)\n",
      "('play_music', 'music_item', 17, 188, 24.36, 0.87, 96.43, 97.3, 399)\n",
      "('th.weather', 'weather/noun', 22, 83, 29.88, 0.84, 97.19, 98.03, 278)\n",
      "('rate_book', 'object_part_of_series_type', 3, 135, 23.14, 0.47, 97.97, 98.44, 144)\n",
      "('book_restaurant', 'sort', 5, 10, 0.0, 0.0, 98.61, 98.61, 98)\n",
      "('search_creative_work', 'object_type', 18, 318, -11.27, -0.15, 98.67, 98.52, 712)\n",
      "('rate_book', 'object_select', 6, 30, 24.79, 0.33, 98.67, 99.0, 487)\n",
      "('add_to_playlist', 'music_item', 5, 141, 19.78, 0.2, 98.99, 99.19, 446)\n",
      "('search_screening_event', 'object_type', 4, 48, 31.22, 0.3, 99.04, 99.34, 377)\n",
      "('add_to_playlist', 'playlist_owner', 43, 28, 39.54, 0.38, 99.04, 99.42, 543)\n",
      "('play_music', 'service', 17, 18, 66.23, 0.61, 99.08, 99.69, 379)\n",
      "('search_screening_event', 'location_name', 66, 12, 43.87, 0.29, 99.34, 99.63, 268)\n",
      "('book_restaurant', 'party_size_number', 20, 12, -40.82, -0.18, 99.56, 99.38, 497)\n",
      "('search_screening_event', 'movie_type', 5, 44, -16.24, -0.07, 99.57, 99.5, 358)\n",
      "('book_restaurant', 'party_size_description', 269, 31, -193.73, -0.68, 99.65, 98.97, 164)\n",
      "('get_weather', 'condition_description', 23, 22, -66.47, -0.22, 99.67, 99.45, 227)\n",
      "('search_screening_event', 'object_location_type', 4, 18, 0.0, 0.0, 99.67, 99.67, 241)\n",
      "('rate_book', 'rating_value', 12, 480, 26.82, 0.07, 99.74, 99.81, 957)\n",
      "('rate_book', 'object_type', 5, 20, 19.92, 0.05, 99.75, 99.8, 473)\n",
      "('rate_book', 'rating_unit', 2, 19, 37.91, 0.08, 99.79, 99.87, 558)\n",
      "('play_music', 'year', 65, 27, 99.38, 0.16, 99.84, 100.0, 326)\n",
      "('search_screening_event', 'spatial_relation', 12, 40, 98.59, 0.07, 99.93, 100.0, 355)\n",
      "('book_restaurant', 'facility', 9, 14, 0.0, 0.0, 100.0, 100.0, 74)\n",
      "('get_weather', 'current_location', 6, 47, 0.0, 0.0, 100.0, 100.0, 143)\n",
      "('rate_book', 'best_rating', 1, 15, 0.0, 0.0, 100.0, 100.0, 519)\n"
     ]
    }
   ],
   "source": [
    "for k in zip(domains,slots,slot_counts,context_counts,rimps,aimps,bl,ours,counts) : print(k)"
   ]
  },
  {
   "cell_type": "code",
   "execution_count": 55,
   "metadata": {},
   "outputs": [
    {
     "data": {
      "text/plain": [
       "<matplotlib.collections.PathCollection at 0x11a1c0748>"
      ]
     },
     "execution_count": 55,
     "metadata": {},
     "output_type": "execute_result"
    },
    {
     "data": {
      "image/png": "[encoded data removed]",
      "text/plain": [
       "<Figure size 432x288 with 1 Axes>"
      ]
     },
     "metadata": {
      "needs_background": "light"
     },
     "output_type": "display_data"
    }
   ],
   "source": [
    "plt.scatter(np.array(slot_counts)/np.array(counts),np.array(context_counts)/np.array(counts))"
   ]
  },
  {
   "cell_type": "code",
   "execution_count": 58,
   "metadata": {},
   "outputs": [
    {
     "data": {
      "text/plain": [
       "<matplotlib.collections.PathCollection at 0x11a608940>"
      ]
     },
     "execution_count": 58,
     "metadata": {},
     "output_type": "execute_result"
    },
    {
     "data": {
      "image/png": "[encoded data removed]",
      "text/plain": [
       "<Figure size 432x288 with 1 Axes>"
      ]
     },
     "metadata": {
      "needs_background": "light"
     },
     "output_type": "display_data"
    }
   ],
   "source": [
    "plt.scatter(context_counts,rimps)"
   ]
  },
  {
   "cell_type": "code",
   "execution_count": null,
   "metadata": {},
   "outputs": [],
   "source": []
  },
  {
   "cell_type": "code",
   "execution_count": 72,
   "metadata": {},
   "outputs": [
    {
     "name": "stdout",
     "output_type": "stream",
     "text": [
      "SpearmanrResult(correlation=0.09854152875825903, pvalue=0.4460699063725966)\n",
      "SpearmanrResult(correlation=-0.051335660934834645, pvalue=0.6919186728837226)\n",
      "SpearmanrResult(correlation=0.17697956636189163, pvalue=0.16880041484549763)\n",
      "SpearmanrResult(correlation=-0.2686901866363955, pvalue=0.034719668488662904)\n",
      "SpearmanrResult(correlation=-0.01418261088273776, pvalue=0.9128798620508174)\n",
      "SpearmanrResult(correlation=0.2274227317763782, pvalue=0.07545981062034302)\n"
     ]
    }
   ],
   "source": [
    "context_counts = np.array(context_counts)\n",
    "slot_counts = np.array(slot_counts)\n",
    "counts = np.array(counts)\n",
    "\n",
    "print(stats.spearmanr(aimps,context_counts/counts))\n",
    "print(stats.spearmanr(rimps,context_counts/counts))\n",
    "\n",
    "print(stats.spearmanr(aimps,slot_counts/counts))\n",
    "print(stats.spearmanr(rimps,slot_counts/counts))\n",
    "\n",
    "print(stats.spearmanr(aimps,counts))\n",
    "print(stats.spearmanr(rimps,counts))"
   ]
  },
  {
   "cell_type": "code",
   "execution_count": 86,
   "metadata": {},
   "outputs": [
    {
     "name": "stdout",
     "output_type": "stream",
     "text": [
      "SpearmanrResult(correlation=0.11243781416488387, pvalue=0.3842553804407911)\n",
      "SpearmanrResult(correlation=-0.1426772166245065, pvalue=0.26861853651222467)\n",
      "KendalltauResult(correlation=0.09668022310436901, pvalue=0.26874154916724513)\n",
      "KendalltauResult(correlation=-0.10568266011549088, pvalue=0.22656779470937904)\n"
     ]
    }
   ],
   "source": [
    "context_counts = np.array(context_counts)\n",
    "slot_counts = np.array(slot_counts)\n",
    "counts = np.array(counts)\n",
    "\n",
    "print(stats.spearmanr(aimps,context_counts+slot_counts))\n",
    "print(stats.spearmanr(rimps,context_counts+slot_counts))\n",
    "\n",
    "print(stats.kendalltau(aimps,slot_counts+context_counts))\n",
    "print(stats.kendalltau(rimps,slot_counts+context_counts))\n",
    "\n",
    "#print(stats.spearmanr(aimps,counts))\n",
    "#print(stats.spearmanr(rimps,counts))"
   ]
  },
  {
   "cell_type": "code",
   "execution_count": 70,
   "metadata": {},
   "outputs": [
    {
     "name": "stdout",
     "output_type": "stream",
     "text": [
      "KendalltauResult(correlation=0.089816279332148, pvalue=0.3069619972905733)\n",
      "KendalltauResult(correlation=0.149119481787829, pvalue=0.08977537800475012)\n",
      "KendalltauResult(correlation=0.10812250716301955, pvalue=0.2172537099712003)\n",
      "KendalltauResult(correlation=-0.14962728425818583, pvalue=0.08764974894222435)\n",
      "KendalltauResult(correlation=-0.005844859110168848, pvalue=0.9467042201860958)\n",
      "KendalltauResult(correlation=0.14555138038457247, pvalue=0.09590377710233927)\n"
     ]
    }
   ],
   "source": [
    "print(stats.kendalltau(aimps,context_counts))\n",
    "print(stats.kendalltau(rimps,context_counts))\n",
    "\n",
    "print(stats.kendalltau(aimps,slot_counts))\n",
    "print(stats.kendalltau(rimps,slot_counts))\n",
    "\n",
    "print(stats.kendalltau(aimps,counts))\n",
    "print(stats.kendalltau(rimps,counts))"
   ]
  },
  {
   "cell_type": "code",
   "execution_count": 32,
   "metadata": {},
   "outputs": [
    {
     "name": "stdout",
     "output_type": "stream",
     "text": [
      "(-0.02948966352084168, 0.8339687742875107)\n",
      "(0.060964403449784994, 0.664543974978716)\n",
      "(0.13301789471274894, 0.3423552363703669)\n",
      "(-0.08332492548226361, 0.5530588374033999)\n",
      "(0.18959873353862697, 0.17390709297990392)\n",
      "(0.1625586360289824, 0.24483748736115324)\n"
     ]
    }
   ],
   "source": [
    "print(stats.pearsonr(aimps,context_counts))\n",
    "print(stats.pearsonr(rimps,context_counts))\n",
    "\n",
    "print(stats.pearsonr(aimps,slot_counts))\n",
    "print(stats.pearsonr(rimps,slot_counts))\n",
    "\n",
    "print(stats.pearsonr(aimps,counts))\n",
    "print(stats.pearsonr(rimps,counts))"
   ]
  },
  {
   "cell_type": "code",
   "execution_count": 69,
   "metadata": {},
   "outputs": [
    {
     "data": {
      "text/plain": [
       "(array([ 0.,  3.,  1.,  9., 19., 10.,  7.,  6.,  3.,  1.,  1.,  0.,  0.]),\n",
       " array([-2. , -1.5, -1. , -0.5,  0. ,  0.5,  1. ,  1.5,  2. ,  2.5,  3. ,\n",
       "         3.5,  4. ,  4.5]),\n",
       " <a list of 13 Patch objects>)"
      ]
     },
     "execution_count": 69,
     "metadata": {},
     "output_type": "execute_result"
    },
    {
     "data": {
      "image/png": "[encoded data removed]",
      "text/plain": [
       "<Figure size 432x288 with 1 Axes>"
      ]
     },
     "metadata": {
      "needs_background": "light"
     },
     "output_type": "display_data"
    }
   ],
   "source": [
    "plt.hist(aimps,bins=[i*0.5 for i in range(-4,10)])"
   ]
  },
  {
   "cell_type": "code",
   "execution_count": 34,
   "metadata": {},
   "outputs": [
    {
     "data": {
      "text/plain": [
       "(SpearmanrResult(correlation=0.23943378042072475, pvalue=0.08421168806721958),\n",
       " SpearmanrResult(correlation=-0.2312873051562837, pvalue=0.09564866026100717))"
      ]
     },
     "execution_count": 34,
     "metadata": {},
     "output_type": "execute_result"
    }
   ],
   "source": [
    "stats.spearmanr(aimps,slot_counts),stats.spearmanr(rimps,slot_counts)"
   ]
  },
  {
   "cell_type": "code",
   "execution_count": 36,
   "metadata": {},
   "outputs": [
    {
     "name": "stdout",
     "output_type": "stream",
     "text": [
      "12 -7.9975 57.067068309285574\n",
      "27 17.96888888888889 34.166481119640714\n",
      "14 19.600714285714282 17.910376267996842\n"
     ]
    },
    {
     "data": {
      "image/png": "[encoded data removed]",
      "text/plain": [
       "<Figure size 432x288 with 1 Axes>"
      ]
     },
     "metadata": {
      "needs_background": "light"
     },
     "output_type": "display_data"
    }
   ],
   "source": [
    "intervals = [0,200,500,10000]\n",
    "means = []\n",
    "stds = []\n",
    "for i in range(len(intervals)-1):\n",
    "    z = [x for x,y in zip(rimps,counts) if intervals[i]<y<intervals[i+1]]\n",
    "    mean = np.mean(z)\n",
    "    std = np.std(z)\n",
    "    print(len(z),mean,std)\n",
    "    means.append(mean)\n",
    "    stds.append(std)\n",
    "    \n",
    "plt.bar(list(map(str,intervals[:-1])), means,yerr=stds, capsize=10)\n",
    "plt.tight_layout()\n",
    "plt.ylabel(\"absolute improvement\")\n",
    "plt.xlabel(\"slot frequency\")\n",
    "plt.show()"
   ]
  },
  {
   "cell_type": "code",
   "execution_count": 37,
   "metadata": {},
   "outputs": [
    {
     "name": "stdout",
     "output_type": "stream",
     "text": [
      "11 13.754545454545456 15.517726733487947\n",
      "10 16.609999999999996 45.343893524927914\n",
      "2 43.965 4.425000000000001\n",
      "6 33.9 33.57300949671725\n",
      "24 2.2862500000000003 42.921940078521224\n"
     ]
    },
    {
     "data": {
      "image/png": "[encoded data removed]",
      "text/plain": [
       "<Figure size 432x288 with 1 Axes>"
      ]
     },
     "metadata": {
      "needs_background": "light"
     },
     "output_type": "display_data"
    }
   ],
   "source": [
    "intervals = [0,10,25,50,100,2000]\n",
    "means = []\n",
    "stds = []\n",
    "for i in range(len(intervals)-1):\n",
    "    z = [x for x,y in zip(rimps,slot_counts) if intervals[i]<y<intervals[i+1]]\n",
    "    mean = np.mean(z)\n",
    "    std = np.std(z)\n",
    "    print(len(z),mean,std)\n",
    "    means.append(mean)\n",
    "    stds.append(std)\n",
    "    \n",
    "plt.bar(list(map(str,intervals[:-1])), means,yerr=stds, capsize=10)\n",
    "plt.tight_layout()\n",
    "plt.ylabel(\"absolute improvement\")\n",
    "plt.xlabel(\"slot frequency\")\n",
    "plt.show()"
   ]
  },
  {
   "cell_type": "code",
   "execution_count": 455,
   "metadata": {},
   "outputs": [
    {
     "name": "stdout",
     "output_type": "stream",
     "text": [
      "24 6.042083333333333 25.43371187668817\n",
      "12 10.155 70.6181102244082\n",
      "13 19.30153846153846 15.073557002581017\n",
      "3 13.303333333333333 17.404969277638944\n"
     ]
    },
    {
     "data": {
      "image/png": "[encoded data removed]",
      "text/plain": [
       "<Figure size 432x288 with 1 Axes>"
      ]
     },
     "metadata": {
      "needs_background": "light"
     },
     "output_type": "display_data"
    }
   ],
   "source": [
    "intervals = [0,25,50,150,1000]\n",
    "means = []\n",
    "stds = []\n",
    "for i in range(len(intervals)-1):\n",
    "    z = [x for x,y in zip(rimps,context_counts) if intervals[i]<y<intervals[i+1]]\n",
    "    mean = np.mean(z)\n",
    "    std = np.std(z)\n",
    "    print(len(z),mean,std)\n",
    "    means.append(mean)\n",
    "    stds.append(std)\n",
    "    \n",
    "plt.bar(list(map(str,intervals[:-1])), means,yerr=stds, capsize=10)\n",
    "plt.tight_layout()\n",
    "plt.ylabel(\"absolute improvement\")\n",
    "plt.xlabel(\"slot frequency\")\n",
    "plt.show()"
   ]
  },
  {
   "cell_type": "code",
   "execution_count": 397,
   "metadata": {},
   "outputs": [
    {
     "data": {
      "image/png": "[encoded data removed]",
      "text/plain": [
       "<Figure size 432x288 with 1 Axes>"
      ]
     },
     "metadata": {
      "needs_background": "light"
     },
     "output_type": "display_data"
    }
   ],
   "source": [
    "plt.hist(context_counts,bins=[10*i for i in range(0,50)])\n",
    "plt.show()"
   ]
  },
  {
   "cell_type": "code",
   "execution_count": 398,
   "metadata": {},
   "outputs": [
    {
     "data": {
      "text/plain": [
       "[10,\n",
       " 12,\n",
       " 12,\n",
       " 12,\n",
       " 13,\n",
       " 14,\n",
       " 14,\n",
       " 14,\n",
       " 14,\n",
       " 15,\n",
       " 15,\n",
       " 15,\n",
       " 15,\n",
       " 16,\n",
       " 18,\n",
       " 18,\n",
       " 18,\n",
       " 19,\n",
       " 19,\n",
       " 21,\n",
       " 22,\n",
       " 22,\n",
       " 23,\n",
       " 23,\n",
       " 23,\n",
       " 24,\n",
       " 27,\n",
       " 28,\n",
       " 30,\n",
       " 32,\n",
       " 33,\n",
       " 37,\n",
       " 40,\n",
       " 43,\n",
       " 43,\n",
       " 44,\n",
       " 45,\n",
       " 59,\n",
       " 59,\n",
       " 61,\n",
       " 61,\n",
       " 66,\n",
       " 70,\n",
       " 74,\n",
       " 92,\n",
       " 99,\n",
       " 113,\n",
       " 126,\n",
       " 136,\n",
       " 168,\n",
       " 208,\n",
       " 323]"
      ]
     },
     "execution_count": 398,
     "metadata": {},
     "output_type": "execute_result"
    }
   ],
   "source": [
    "sorted(context_counts)"
   ]
  },
  {
   "cell_type": "code",
   "execution_count": 390,
   "metadata": {},
   "outputs": [
    {
     "data": {
      "text/plain": [
       "(1,\n",
       " 2,\n",
       " 3,\n",
       " 4,\n",
       " 4,\n",
       " 5,\n",
       " 5,\n",
       " 5,\n",
       " 5,\n",
       " 6,\n",
       " 6,\n",
       " 9,\n",
       " 12,\n",
       " 12,\n",
       " 17,\n",
       " 17,\n",
       " 18,\n",
       " 18,\n",
       " 19,\n",
       " 20,\n",
       " 23,\n",
       " 24,\n",
       " 26,\n",
       " 43,\n",
       " 65,\n",
       " 66,\n",
       " 69,\n",
       " 72,\n",
       " 74,\n",
       " 74,\n",
       " 116,\n",
       " 116,\n",
       " 149,\n",
       " 155,\n",
       " 159,\n",
       " 188,\n",
       " 213,\n",
       " 224,\n",
       " 228,\n",
       " 267,\n",
       " 269,\n",
       " 286,\n",
       " 287,\n",
       " 314,\n",
       " 487,\n",
       " 599,\n",
       " 646,\n",
       " 778,\n",
       " 807,\n",
       " 918,\n",
       " 969,\n",
       " 1781)"
      ]
     },
     "execution_count": 390,
     "metadata": {},
     "output_type": "execute_result"
    }
   ],
   "source": [
    "slot_counts"
   ]
  },
  {
   "cell_type": "code",
   "execution_count": 357,
   "metadata": {},
   "outputs": [
    {
     "data": {
      "image/png": "[encoded data removed]",
      "text/plain": [
       "<Figure size 432x288 with 1 Axes>"
      ]
     },
     "metadata": {
      "needs_background": "light"
     },
     "output_type": "display_data"
    }
   ],
   "source": [
    "ax = plt.axes(projection='3d')\n",
    "\n",
    "#ax.plot3D(xline, yline, zline, 'gray')\n",
    "\n",
    "# Data for three-dimensional scattered points\n",
    "zdata = rimps\n",
    "xdata = slot_counts\n",
    "ydata = context_counts\n",
    "ax.scatter3D(xdata, ydata, zdata, c=zdata, cmap='Greens');"
   ]
  },
  {
   "cell_type": "code",
   "execution_count": null,
   "metadata": {},
   "outputs": [],
   "source": []
  }
 ],
 "metadata": {
  "kernelspec": {
   "display_name": "Python 3",
   "language": "python",
   "name": "python3"
  },
  "language_info": {
   "codemirror_mode": {
    "name": "ipython",
    "version": 3
   },
   "file_extension": ".py",
   "mimetype": "text/x-python",
   "name": "python",
   "nbconvert_exporter": "python",
   "pygments_lexer": "ipython3",
   "version": "3.6.3"
  }
 },
 "nbformat": 4,
 "nbformat_minor": 2
}
