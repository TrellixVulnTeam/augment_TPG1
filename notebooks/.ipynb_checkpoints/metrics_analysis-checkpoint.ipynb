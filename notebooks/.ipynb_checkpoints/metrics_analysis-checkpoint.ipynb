{
 "cells": [
  {
   "cell_type": "code",
   "execution_count": 1,
   "metadata": {},
   "outputs": [],
   "source": [
    "import pandas as pd"
   ]
  },
  {
   "cell_type": "code",
   "execution_count": 37,
   "metadata": {},
   "outputs": [],
   "source": [
    "df = pd.read_csv(\"../results.df\",names=['domain','exp','slot','prec','rec','f1','count'],delimiter=\" \")"
   ]
  },
  {
   "cell_type": "code",
   "execution_count": 38,
   "metadata": {},
   "outputs": [],
   "source": [
    "best_exp_per_domain = {}\n",
    "best_exp_per_domain['book_restaurant'] = '4x'\n",
    "best_exp_per_domain['rate_book'] = '4x'\n",
    "best_exp_per_domain['search_screening_event'] = '4x'\n",
    "best_exp_per_domain['search_creative_work'] = '4x'\n",
    "best_exp_per_domain['get_weather'] = '4x'\n",
    "best_exp_per_domain['play_music'] = '4x'\n",
    "best_exp_per_domain['add_to_playlist'] = '4x'\n",
    "\n",
    "#df = df[df['exp'].isin(['baseline','4x'])]"
   ]
  },
  {
   "cell_type": "code",
   "execution_count": 19,
   "metadata": {},
   "outputs": [],
   "source": [
    "df_baseline = df[df['exp']=='baseline']\n",
    "df_1x = df[df['exp']=='1x']\n",
    "df_2x = df[df['exp']=='2x']\n",
    "df_4x = df[df['exp']=='4x']"
   ]
  },
  {
   "cell_type": "code",
   "execution_count": 40,
   "metadata": {},
   "outputs": [
    {
     "data": {
      "text/plain": [
       "array([-1.34,  2.06,  2.  ,  0.  , -0.68, -0.18,  1.44,  1.74,  1.82,\n",
       "        0.75,  0.  ,  1.85,  1.12, -0.11,  0.32,  0.72,  2.98,  0.87,\n",
       "       -0.2 ,  0.61,  0.73, -1.18,  0.16, -0.02,  1.32,  0.2 ,  1.79,\n",
       "        0.38,  0.29,  1.38, -0.07,  0.  ,  0.3 ,  0.07, -0.02,  0.92,\n",
       "       -0.15,  0.49, -0.22, -0.1 ,  0.55,  0.  , -1.12,  3.4 ,  1.53,\n",
       "       -0.08,  0.  ,  0.79,  0.47,  0.33,  0.05,  0.08,  0.07])"
      ]
     },
     "execution_count": 40,
     "metadata": {},
     "output_type": "execute_result"
    }
   ],
   "source": [
    "df_4x['f1'].values-df_baseline['f1'].values"
   ]
  },
  {
   "cell_type": "code",
   "execution_count": 41,
   "metadata": {},
   "outputs": [],
   "source": [
    "counts = df_4x['count'].values"
   ]
  },
  {
   "cell_type": "code",
   "execution_count": null,
   "metadata": {},
   "outputs": [],
   "source": []
  }
 ],
 "metadata": {
  "kernelspec": {
   "display_name": "Python 3",
   "language": "python",
   "name": "python3"
  },
  "language_info": {
   "codemirror_mode": {
    "name": "ipython",
    "version": 3
   },
   "file_extension": ".py",
   "mimetype": "text/x-python",
   "name": "python",
   "nbconvert_exporter": "python",
   "pygments_lexer": "ipython3",
   "version": "3.6.3"
  }
 },
 "nbformat": 4,
 "nbformat_minor": 2
}
